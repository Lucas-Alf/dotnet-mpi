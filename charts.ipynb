{
 "cells": [
  {
   "cell_type": "code",
   "execution_count": 24,
   "metadata": {},
   "outputs": [
    {
     "data": {
      "text/plain": [
       "<AxesSubplot:ylabel='Speed-Up'>"
      ]
     },
     "execution_count": 24,
     "metadata": {},
     "output_type": "execute_result"
    },
    {
     "data": {
      "image/png": "[encoded data removed]",
      "text/plain": [
       "<Figure size 432x288 with 1 Axes>"
      ]
     },
     "metadata": {},
     "output_type": "display_data"
    }
   ],
   "source": [
    "import pandas as pd\n",
    "import seaborn as sns\n",
    "\n",
    "data = pd.read_csv(\"results.csv\", usecols=[\"Cores\", \"Tempo de execução (s)\", \"Speed-Up\", \"Speed-Up Ideal\", \"Eficiência\"]).sort_values(\"Cores\")\n",
    "\n",
    "sns.set_style(\"whitegrid\")\n",
    "ax = sns.barplot(\n",
    "      data = data,\n",
    "      x = \"Cores\", \n",
    "      y = \"Tempo de execução (s)\",\n",
    "      palette = ['orange']\n",
    ")\n",
    "\n",
    "ax.set(xlabel = \"Núcleos\")\n",
    "\n",
    "sns.regplot(ax=ax, x=data.index, y=\"Speed-Up\", data=data, order=1)\n",
    "\n",
    "# num_locations = len(data)\n",
    "# for i, bar in enumerate(ax.patches):\n",
    "    # bar.set_hatch(\"/\")\n",
    "\n",
    "# add legend of column value\n",
    "# for bars in ax.patches:\n",
    "    # ax.text(72, bars.get_y()+0.45, (str(round(bars.get_width(),2))+\"s\"), color='black', fontweight='bold')"
   ]
  }
 ],
 "metadata": {
  "kernelspec": {
   "display_name": "Python 3",
   "language": "python",
   "name": "python3"
  },
  "language_info": {
   "codemirror_mode": {
    "name": "ipython",
    "version": 3
   },
   "file_extension": ".py",
   "mimetype": "text/x-python",
   "name": "python",
   "nbconvert_exporter": "python",
   "pygments_lexer": "ipython3",
   "version": "3.6.13"
  }
 },
 "nbformat": 4,
 "nbformat_minor": 2
}
